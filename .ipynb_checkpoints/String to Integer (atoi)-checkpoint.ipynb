{
 "cells": [
  {
   "cell_type": "code",
   "execution_count": 1,
   "metadata": {},
   "outputs": [],
   "source": [
    "def myAtoi(str):\n",
    "        str=str.strip()\n",
    "        sign=''\n",
    "\n",
    "        if len(str)==0:\n",
    "            return 0\n",
    "        if str[0]=='+' or str[0]=='-':\n",
    "\n",
    "            sign=str[0]\n",
    "            temp=list(str)\n",
    "            temp.pop(0)\n",
    "            str=''.join(temp)\n",
    "        ans=''\n",
    "\n",
    "        for i in str:\n",
    "            if i.isdigit():\n",
    "                ans=ans+i\n",
    "            else:\n",
    "                break\n",
    "        if len(ans)==0:\n",
    "            return 0\n",
    "        if sign =='-':\n",
    "            ans=-int(ans)\n",
    "        else:\n",
    "            ans=int(ans)\n",
    "        if ans>2**31-1:\n",
    "            return 2**31-1\n",
    "        elif ans < -2**31:\n",
    "            return -2**31\n",
    "        else : return ans"
   ]
  },
  {
   "cell_type": "code",
   "execution_count": 2,
   "metadata": {},
   "outputs": [
    {
     "data": {
      "text/plain": [
       "3"
      ]
     },
     "execution_count": 2,
     "metadata": {},
     "output_type": "execute_result"
    }
   ],
   "source": [
    "myAtoi('3.414')"
   ]
  },
  {
   "cell_type": "code",
   "execution_count": null,
   "metadata": {},
   "outputs": [],
   "source": []
  }
 ],
 "metadata": {
  "kernelspec": {
   "display_name": "Python 3",
   "language": "python",
   "name": "python3"
  },
  "language_info": {
   "codemirror_mode": {
    "name": "ipython",
    "version": 3
   },
   "file_extension": ".py",
   "mimetype": "text/x-python",
   "name": "python",
   "nbconvert_exporter": "python",
   "pygments_lexer": "ipython3",
   "version": "3.7.3"
  }
 },
 "nbformat": 4,
 "nbformat_minor": 2
}
