{
 "cells": [
  {
   "cell_type": "markdown",
   "metadata": {},
   "source": [
    "https://www.youtube.com/watch?v=WxI2bm4Nn1U&t=450s"
   ]
  },
  {
   "cell_type": "code",
   "execution_count": 1,
   "metadata": {},
   "outputs": [],
   "source": [
    "def threeSumClosest(nums,target):\n",
    "    nums.sort()\n",
    "    n = len(nums)\n",
    "    result = nums[0]+nums[1]+nums[2]\n",
    "    for i in range(n-2):\n",
    "        j = i+1\n",
    "        k = n-1\n",
    "        while j<k:\n",
    "            \n",
    "            new_sum = nums[i]+nums[j]+nums[k]\n",
    "            \n",
    "            if abs(new_sum-target) < abs(result-target):\n",
    "                result = new_sum\n",
    "                \n",
    "            if new_sum == target:\n",
    "                return new_sum\n",
    "            \n",
    "            elif new_sum < target:\n",
    "                j += 1\n",
    "            else:\n",
    "                k -= 1\n",
    "\n",
    "            \n",
    "    return result"
   ]
  },
  {
   "cell_type": "code",
   "execution_count": 2,
   "metadata": {},
   "outputs": [
    {
     "data": {
      "text/plain": [
       "2"
      ]
     },
     "execution_count": 2,
     "metadata": {},
     "output_type": "execute_result"
    }
   ],
   "source": [
    "threeSumClosest([-1, 2, 1, -4],1)"
   ]
  },
  {
   "cell_type": "code",
   "execution_count": null,
   "metadata": {},
   "outputs": [],
   "source": []
  }
 ],
 "metadata": {
  "kernelspec": {
   "display_name": "Python 3",
   "language": "python",
   "name": "python3"
  },
  "language_info": {
   "codemirror_mode": {
    "name": "ipython",
    "version": 3
   },
   "file_extension": ".py",
   "mimetype": "text/x-python",
   "name": "python",
   "nbconvert_exporter": "python",
   "pygments_lexer": "ipython3",
   "version": "3.7.3"
  }
 },
 "nbformat": 4,
 "nbformat_minor": 2
}
