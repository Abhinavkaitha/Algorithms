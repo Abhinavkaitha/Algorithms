{
 "cells": [
  {
   "cell_type": "markdown",
   "metadata": {},
   "source": [
    "We want to mimic the LC 15. 3Sum algorithm in some way, but here we need to consider all triples together with their multiplicities, so simply using the solutions there is incorrect. For example, consider A = [1,2,2,2,2], target = 5. If we initialize three pointers i = 0, j = 1, k = 4. Since A[0] + A[1] + A[4] == 5, it is a valid triple, we increment the counter by 1. But then when we do j += 1 and k -= 1, we missed a lot of the duplicate triples, so in total we only count [1, 2, 2] twice, whereas in fact the multiplicity of the triple [1,2,2] should be 6. Furthermore, sorting an array with multiplitices could be very inefficient, so that we can first create a counter of the array, and then sort the distinct elements of the array by sorting the keys of the counter.\n",
    "\n",
    "To address the above problems, we propose the following algorithm:\n",
    "\n",
    "We initialize the result res = 0, which counts the total number of valid triples with multiplicity. We create a counter dic of the array, which maps an element in the array to its number of appearances.\n",
    "sort dic according its keys. Denote by A the list of sorted key, val pairs in dic.\n",
    "Let i be a pointer iterating in range(len(A)), and for each iteration, initialize two pointers j = i, k = len(A)-1. Now we search for pairs of indices k >= j >= i, such that A[j][0] + A[k][0] == target - A[i][0]. To do this, while j <= k, if A[j][0]+A[k][0] < target - A[i][0], we increment j by 1; Else if A[j][0]+A[k][0] > target - A[i][0], we decrement k by 1; Else when A[j][0]+A[k][0] == target - A[i][0], we count the multiplicity of the triple (A[i][0], A[j][0], A[k][0]), and increment the total counter res by the multiplicity. Finally, after iterating over i, we return res.\n",
    "The multiplicity of the triple (A[i][0], A[j][0], A[k][0]) depends on if there are duplicate numbers in the triple. If all elements are distinct, then the multiplicity is just A[i][1]*A[j][1]*A[k][1], E.g., if A = [(1, 2), (2, 4), (3, 3)] (corresponding to the input list [1,1,2,2,2,2,3,3,3]), then the multiplicity of the triple (1,2,3) is 2*4*3 = 24; Else if there are two distinct elements in the triple, WLOG, assume A[j][0] == A[k][0], then the multiplicity is (A[j][1]*(A[j][1]-1) // 2) * A[i][1], E.g., consider the same A = [(1,2), (2,4), (3,3)] as in the previous case, the multiplicity of the triple (1,2,2) is (4*3) // 2 * 2 = 12, because the number of pairs of (2,2) that one can get in [2,2,2,2] is 4 choose 2 = 4*3 // 2 = 6; Else if all three numbers in the triple are equal, i.e., A[i][0] == A[j][0] and A[j][0] == A[k][0], then the multiplicity is A[i][1]*(A[i][1]-1)*(A[i][1]-2) // 6, E.g., consider the same A = [(1,2), (2,4), (3,3)] as in the previous case, the multiplicity of the triple (2,2,2) is 4 choose 3 = (4*3*2) // 6 = 4."
   ]
  },
  {
   "cell_type": "code",
   "execution_count": 27,
   "metadata": {},
   "outputs": [],
   "source": [
    "import collections\n",
    "import math\n",
    "def threeSumMulti(A, target):\n",
    "        bound = 1000000007\n",
    "        dic = collections.Counter(A)\n",
    "        A = sorted(dic.items(), key = lambda x: x[0])\n",
    "        res = 0\n",
    "        for i in range(len(A)):\n",
    "            j = i\n",
    "            k = len(A)-1\n",
    "            new_target = target - A[i][0]\n",
    "            while j <= k:\n",
    "                if A[j][0]+A[k][0] < new_target:\n",
    "                    j += 1\n",
    "                elif A[j][0]+A[k][0] > new_target:\n",
    "                    k -= 1\n",
    "                else:\n",
    "                    if A[i][0] == A[k][0]:\n",
    "                        res = (res + A[i][1]*(A[i][1]-1)*(A[i][1]-2) // 6) % bound\n",
    "                    elif A[i][0] == A[j][0]:\n",
    "                        res = (res + A[k][1]*A[i][1]*(A[i][1]-1)//2) % bound\n",
    "                    elif A[j][0] == A[k][0]:\n",
    "                        res = (res + A[i][1]*A[j][1]*(A[j][1]-1)//2) % bound\n",
    "                    else:\n",
    "                        res = (res + A[i][1]*A[j][1]*A[k][1]) % bound\n",
    "                    j += 1\n",
    "                    k -= 1\n",
    "        return res"
   ]
  },
  {
   "cell_type": "code",
   "execution_count": 28,
   "metadata": {},
   "outputs": [],
   "source": [
    "A = [1,1,2,2,3,3,4,4,5,5]\n",
    "target = 8"
   ]
  },
  {
   "cell_type": "code",
   "execution_count": null,
   "metadata": {},
   "outputs": [],
   "source": []
  }
 ],
 "metadata": {
  "kernelspec": {
   "display_name": "Python 3",
   "language": "python",
   "name": "python3"
  },
  "language_info": {
   "codemirror_mode": {
    "name": "ipython",
    "version": 3
   },
   "file_extension": ".py",
   "mimetype": "text/x-python",
   "name": "python",
   "nbconvert_exporter": "python",
   "pygments_lexer": "ipython3",
   "version": "3.7.3"
  }
 },
 "nbformat": 4,
 "nbformat_minor": 2
}
