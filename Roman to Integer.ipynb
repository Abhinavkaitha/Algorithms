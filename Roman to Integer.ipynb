{
 "cells": [
  {
   "cell_type": "code",
   "execution_count": 1,
   "metadata": {},
   "outputs": [],
   "source": [
    "def RomanToInt(s):\n",
    "    Romans = {'M':1000, 'D':500, 'C':100,  'L':50,  'X':10,  'V':5, 'I':1}\n",
    "    ans = Romans[s[-1]]\n",
    "    for i in range(len(s)-1):\n",
    "        Roman1 = s[i]\n",
    "        Roman2 = s[i+1]\n",
    "            \n",
    "        if Romans[Roman1] >= Romans[Roman2]:\n",
    "            ans = ans+Romans[Roman1]\n",
    "        else:\n",
    "            ans = ans-Romans[Roman1]\n",
    "    return ans"
   ]
  },
  {
   "cell_type": "code",
   "execution_count": 2,
   "metadata": {},
   "outputs": [
    {
     "data": {
      "text/plain": [
       "3"
      ]
     },
     "execution_count": 2,
     "metadata": {},
     "output_type": "execute_result"
    }
   ],
   "source": [
    "RomanToInt(\"III\")"
   ]
  },
  {
   "cell_type": "code",
   "execution_count": null,
   "metadata": {},
   "outputs": [],
   "source": []
  }
 ],
 "metadata": {
  "kernelspec": {
   "display_name": "Python 3",
   "language": "python",
   "name": "python3"
  },
  "language_info": {
   "codemirror_mode": {
    "name": "ipython",
    "version": 3
   },
   "file_extension": ".py",
   "mimetype": "text/x-python",
   "name": "python",
   "nbconvert_exporter": "python",
   "pygments_lexer": "ipython3",
   "version": "3.7.3"
  }
 },
 "nbformat": 4,
 "nbformat_minor": 2
}
