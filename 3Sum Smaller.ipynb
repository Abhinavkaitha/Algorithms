{
 "cells": [
  {
   "cell_type": "markdown",
   "metadata": {},
   "source": [
    "https://www.geeksforgeeks.org/count-triplets-with-sum-smaller-that-a-given-value/"
   ]
  },
  {
   "cell_type": "code",
   "execution_count": 1,
   "metadata": {},
   "outputs": [],
   "source": [
    "def threeSumSmaller(nums,target):\n",
    "    nums.sort()\n",
    "    n = len(nums)\n",
    "    ans = 0\n",
    "\n",
    "    for i in range(n-2):\n",
    "\n",
    "        j = i+1\n",
    "        k = n-1\n",
    " \n",
    "        while j<k:\n",
    "            \n",
    "            if nums[i] + nums[j] + nums[k] < target:\n",
    "                ans += k-j\n",
    "                j += 1\n",
    "\n",
    "            else:\n",
    "                k -= 1\n",
    "    return ans"
   ]
  },
  {
   "cell_type": "code",
   "execution_count": 2,
   "metadata": {},
   "outputs": [
    {
     "data": {
      "text/plain": [
       "5"
      ]
     },
     "execution_count": 2,
     "metadata": {},
     "output_type": "execute_result"
    }
   ],
   "source": [
    "threeSumSmaller([-2,0,1,2,3],3)"
   ]
  },
  {
   "cell_type": "code",
   "execution_count": null,
   "metadata": {},
   "outputs": [],
   "source": []
  }
 ],
 "metadata": {
  "kernelspec": {
   "display_name": "Python 3",
   "language": "python",
   "name": "python3"
  },
  "language_info": {
   "codemirror_mode": {
    "name": "ipython",
    "version": 3
   },
   "file_extension": ".py",
   "mimetype": "text/x-python",
   "name": "python",
   "nbconvert_exporter": "python",
   "pygments_lexer": "ipython3",
   "version": "3.7.3"
  }
 },
 "nbformat": 4,
 "nbformat_minor": 2
}
